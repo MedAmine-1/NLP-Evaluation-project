{
  "cells": [
    {
      "cell_type": "markdown",
      "metadata": {},
      "source": [
        "### Exercise 2: Learning a Language Model from scratch \n",
        "Learn a Language Model from the text [\"metamorphosis.txt\"](https://drive.google.com/file/d/1ip_8SZt0eYqkQMivtbTfnNiEqImtJS2t/view?usp=sharing) (dataset of notebook of day 1) and generate text with it. \n",
        "1. Preprocess your dataset for your needs (split into sentences, tokenize, clean text, build vocabulary, encode sentences)\n",
        "2. Create tensorflow datasets and dataloader from the processed datasets \n",
        "3. Build a RNN Language Model (see [notebook of day #3](https://colab.research.google.com/drive/1M_KpWjtcOrFZ_Ng8qUPHB0XTAZVWGCwE?usp=sharing)) and train it \n",
        "4. Compute its perplexity over the test set: can we obtain a perplexity around or inferior to 3 in the validation set ?\n",
        "5. Generate text with it using nucleus sampling (or top-k nucleus sampling): See this chunk of code as an help to implement the method: https://gist.github.com/thomwolf/1a5a29f6962089e871b94cbd09daf317\n",
        "and print the generated text.\n",
        "6. Bonus Question: Take a random sentence of the test dataset, generate text with the trained language model, and compare it with text generated with GPT-2. \n",
        "See hugging face tutorial: https://huggingface.co/blog/how-to-generate\n"
      ]
    },
    {
      "cell_type": "code",
      "execution_count": 2,
      "metadata": {
        "colab": {
          "base_uri": "https://localhost:8080/"
        },
        "id": "COIypqk6yYF4",
        "outputId": "490d2857-c40f-4e41-8c54-9f3e864c1530"
      },
      "outputs": [
        {
          "name": "stdout",
          "output_type": "stream",
          "text": [
            "[nltk_data] Downloading package punkt to /root/nltk_data...\n",
            "[nltk_data]   Unzipping tokenizers/punkt.zip.\n",
            "[nltk_data] Downloading package stopwords to /root/nltk_data...\n",
            "[nltk_data]   Unzipping corpora/stopwords.zip.\n"
          ]
        }
      ],
      "source": [
        "# MAIN IMPORTS\n",
        "import re # Regular Expression. \n",
        "import nltk # text preprocessing \n",
        "import gensim # Load Word2vec and GloVe\n",
        "import string\n",
        "import matplotlib.pyplot as plt\n",
        "import numpy as np\n",
        "# download data from the library\n",
        "nltk.download('punkt')\n",
        "nltk.download('stopwords')\n",
        "\n",
        "import pandas as pd\n",
        "import tensorflow as tf\n",
        "import json"
      ]
    },
    {
      "cell_type": "code",
      "execution_count": 3,
      "metadata": {
        "id": "pbrcU2Glyd40"
      },
      "outputs": [],
      "source": [
        "# read text file\n",
        "filename = '/content/drive/MyDrive/metamorphosis.txt'\n",
        "file = open(filename, 'rt')\n",
        "text = file.read()\n",
        "file.close()"
      ]
    },
    {
      "cell_type": "code",
      "execution_count": 4,
      "metadata": {
        "colab": {
          "base_uri": "https://localhost:8080/"
        },
        "id": "QkgjceRhyn21",
        "outputId": "da9849e4-97ad-4d10-cbaa-e49538a0f0c0"
      },
      "outputs": [
        {
          "name": "stdout",
          "output_type": "stream",
          "text": [
            "number of sentences 797\n",
            "One morning, when Gregor Samsa woke from troubled dreams, he found\n",
            "himself transformed in his bed into a horrible vermin.\n",
            "------------------------------------------------------------\n",
            "He lay on\n",
            "his armour-like back, and if he lifted his head a little he could\n",
            "see his brown belly, slightly domed and divided by arches into stiff\n",
            "sections.\n",
            "------------------------------------------------------------\n",
            "The bedding was hardly able to cover it and seemed ready\n",
            "to slide off any moment.\n",
            "------------------------------------------------------------\n",
            "His many legs, pitifully thin compared\n",
            "with the size of the rest of him, waved about helplessly as he\n",
            "looked.\n",
            "------------------------------------------------------------\n",
            "\"What's happened to me?\"\n",
            "------------------------------------------------------------\n",
            "he thought.\n",
            "------------------------------------------------------------\n",
            "It wasn't a dream.\n",
            "------------------------------------------------------------\n",
            "His room,\n",
            "a proper human room although a little too small, lay peacefully\n",
            "between its four familiar walls.\n",
            "------------------------------------------------------------\n",
            "A collection of textile samples\n",
            "lay spread out on the table - Samsa was a travelling salesman - and\n",
            "above it there hung a picture that he had recently cut out of an\n",
            "illustrated magazine and housed in a nice, gilded frame.\n",
            "------------------------------------------------------------\n",
            "It showed\n",
            "a lady fitted out with a fur hat and fur boa who sat upright,\n",
            "raising a heavy fur muff that covered the whole of her lower arm\n",
            "towards the viewer.\n",
            "------------------------------------------------------------\n"
          ]
        }
      ],
      "source": [
        "# split into sentences\n",
        "from nltk import sent_tokenize\n",
        "sentences = sent_tokenize(text)\n",
        "print(\"number of sentences\", len(sentences))\n",
        "for i in range(10):\n",
        "  print(sentences[i])\n",
        "  print(\"-\"*60)"
      ]
    },
    {
      "cell_type": "code",
      "execution_count": 6,
      "metadata": {
        "colab": {
          "base_uri": "https://localhost:8080/",
          "height": 206
        },
        "id": "Y0mbjcaMy5k2",
        "outputId": "a065adbb-f175-409f-e9ea-2f2deb1c6a32"
      },
      "outputs": [
        {
          "data": {
            "text/html": [
              "\n",
              "  <div id=\"df-c0907f37-eff2-4b0b-9562-272626d85df9\">\n",
              "    <div class=\"colab-df-container\">\n",
              "      <div>\n",
              "<style scoped>\n",
              "    .dataframe tbody tr th:only-of-type {\n",
              "        vertical-align: middle;\n",
              "    }\n",
              "\n",
              "    .dataframe tbody tr th {\n",
              "        vertical-align: top;\n",
              "    }\n",
              "\n",
              "    .dataframe thead th {\n",
              "        text-align: right;\n",
              "    }\n",
              "</style>\n",
              "<table border=\"1\" class=\"dataframe\">\n",
              "  <thead>\n",
              "    <tr style=\"text-align: right;\">\n",
              "      <th></th>\n",
              "      <th>sentence</th>\n",
              "      <th>sentence_1</th>\n",
              "      <th>sentence_2</th>\n",
              "    </tr>\n",
              "  </thead>\n",
              "  <tbody>\n",
              "    <tr>\n",
              "      <th>0</th>\n",
              "      <td>One morning, when Gregor Samsa woke from troub...</td>\n",
              "      <td>One morning, when Gregor Samsa woke from troub...</td>\n",
              "      <td>found himself transformed in his bed into a ho...</td>\n",
              "    </tr>\n",
              "    <tr>\n",
              "      <th>1</th>\n",
              "      <td>He lay on\\nhis armour-like back, and if he lif...</td>\n",
              "      <td>He lay on his armour-like back, and if he lift...</td>\n",
              "      <td>he could see his brown belly, slightly domed a...</td>\n",
              "    </tr>\n",
              "    <tr>\n",
              "      <th>2</th>\n",
              "      <td>The bedding was hardly able to cover it and se...</td>\n",
              "      <td>The bedding was hardly able to cover it</td>\n",
              "      <td>and seemed ready to slide off any moment.</td>\n",
              "    </tr>\n",
              "    <tr>\n",
              "      <th>3</th>\n",
              "      <td>His many legs, pitifully thin compared\\nwith t...</td>\n",
              "      <td>His many legs, pitifully thin compared with th...</td>\n",
              "      <td>the rest of him, waved about helplessly as he ...</td>\n",
              "    </tr>\n",
              "    <tr>\n",
              "      <th>4</th>\n",
              "      <td>\"What's happened to me?\"</td>\n",
              "      <td>\"What's happened</td>\n",
              "      <td>to me?\"</td>\n",
              "    </tr>\n",
              "  </tbody>\n",
              "</table>\n",
              "</div>\n",
              "      <button class=\"colab-df-convert\" onclick=\"convertToInteractive('df-c0907f37-eff2-4b0b-9562-272626d85df9')\"\n",
              "              title=\"Convert this dataframe to an interactive table.\"\n",
              "              style=\"display:none;\">\n",
              "        \n",
              "  <svg xmlns=\"http://www.w3.org/2000/svg\" height=\"24px\"viewBox=\"0 0 24 24\"\n",
              "       width=\"24px\">\n",
              "    <path d=\"M0 0h24v24H0V0z\" fill=\"none\"/>\n",
              "    <path d=\"M18.56 5.44l.94 2.06.94-2.06 2.06-.94-2.06-.94-.94-2.06-.94 2.06-2.06.94zm-11 1L8.5 8.5l.94-2.06 2.06-.94-2.06-.94L8.5 2.5l-.94 2.06-2.06.94zm10 10l.94 2.06.94-2.06 2.06-.94-2.06-.94-.94-2.06-.94 2.06-2.06.94z\"/><path d=\"M17.41 7.96l-1.37-1.37c-.4-.4-.92-.59-1.43-.59-.52 0-1.04.2-1.43.59L10.3 9.45l-7.72 7.72c-.78.78-.78 2.05 0 2.83L4 21.41c.39.39.9.59 1.41.59.51 0 1.02-.2 1.41-.59l7.78-7.78 2.81-2.81c.8-.78.8-2.07 0-2.86zM5.41 20L4 18.59l7.72-7.72 1.47 1.35L5.41 20z\"/>\n",
              "  </svg>\n",
              "      </button>\n",
              "      \n",
              "  <style>\n",
              "    .colab-df-container {\n",
              "      display:flex;\n",
              "      flex-wrap:wrap;\n",
              "      gap: 12px;\n",
              "    }\n",
              "\n",
              "    .colab-df-convert {\n",
              "      background-color: #E8F0FE;\n",
              "      border: none;\n",
              "      border-radius: 50%;\n",
              "      cursor: pointer;\n",
              "      display: none;\n",
              "      fill: #1967D2;\n",
              "      height: 32px;\n",
              "      padding: 0 0 0 0;\n",
              "      width: 32px;\n",
              "    }\n",
              "\n",
              "    .colab-df-convert:hover {\n",
              "      background-color: #E2EBFA;\n",
              "      box-shadow: 0px 1px 2px rgba(60, 64, 67, 0.3), 0px 1px 3px 1px rgba(60, 64, 67, 0.15);\n",
              "      fill: #174EA6;\n",
              "    }\n",
              "\n",
              "    [theme=dark] .colab-df-convert {\n",
              "      background-color: #3B4455;\n",
              "      fill: #D2E3FC;\n",
              "    }\n",
              "\n",
              "    [theme=dark] .colab-df-convert:hover {\n",
              "      background-color: #434B5C;\n",
              "      box-shadow: 0px 1px 3px 1px rgba(0, 0, 0, 0.15);\n",
              "      filter: drop-shadow(0px 1px 2px rgba(0, 0, 0, 0.3));\n",
              "      fill: #FFFFFF;\n",
              "    }\n",
              "  </style>\n",
              "\n",
              "      <script>\n",
              "        const buttonEl =\n",
              "          document.querySelector('#df-c0907f37-eff2-4b0b-9562-272626d85df9 button.colab-df-convert');\n",
              "        buttonEl.style.display =\n",
              "          google.colab.kernel.accessAllowed ? 'block' : 'none';\n",
              "\n",
              "        async function convertToInteractive(key) {\n",
              "          const element = document.querySelector('#df-c0907f37-eff2-4b0b-9562-272626d85df9');\n",
              "          const dataTable =\n",
              "            await google.colab.kernel.invokeFunction('convertToInteractive',\n",
              "                                                     [key], {});\n",
              "          if (!dataTable) return;\n",
              "\n",
              "          const docLinkHtml = 'Like what you see? Visit the ' +\n",
              "            '<a target=\"_blank\" href=https://colab.research.google.com/notebooks/data_table.ipynb>data table notebook</a>'\n",
              "            + ' to learn more about interactive tables.';\n",
              "          element.innerHTML = '';\n",
              "          dataTable['output_type'] = 'display_data';\n",
              "          await google.colab.output.renderOutput(dataTable, element);\n",
              "          const docLink = document.createElement('div');\n",
              "          docLink.innerHTML = docLinkHtml;\n",
              "          element.appendChild(docLink);\n",
              "        }\n",
              "      </script>\n",
              "    </div>\n",
              "  </div>\n",
              "  "
            ],
            "text/plain": [
              "                                            sentence  ...                                         sentence_2\n",
              "0  One morning, when Gregor Samsa woke from troub...  ...  found himself transformed in his bed into a ho...\n",
              "1  He lay on\\nhis armour-like back, and if he lif...  ...  he could see his brown belly, slightly domed a...\n",
              "2  The bedding was hardly able to cover it and se...  ...          and seemed ready to slide off any moment.\n",
              "3  His many legs, pitifully thin compared\\nwith t...  ...  the rest of him, waved about helplessly as he ...\n",
              "4                           \"What's happened to me?\"  ...                                            to me?\"\n",
              "\n",
              "[5 rows x 3 columns]"
            ]
          },
          "execution_count": 6,
          "metadata": {},
          "output_type": "execute_result"
        }
      ],
      "source": [
        "# create df for easy manips \n",
        "df = pd.DataFrame()\n",
        "df['sentence'] = sentences\n",
        "# split sentence for test settings ()\n",
        "get_sen_1 = lambda x: ' '.join(x.split()[:int(len(x.split())/2)])\n",
        "get_sen_2 = lambda x:' '.join(x.split()[int(len(x.split())/2):])\n",
        "df['sentence_1'] = df.sentence.apply(get_sen_1)\n",
        "df['sentence_2'] = df.sentence.apply(get_sen_2)\n",
        "df.head()"
      ]
    },
    {
      "cell_type": "code",
      "execution_count": 11,
      "metadata": {
        "colab": {
          "base_uri": "https://localhost:8080/"
        },
        "id": "RUgWosW9zb2O",
        "outputId": "5448e3c2-e5a4-416d-90de-ca91bbbeb5df"
      },
      "outputs": [
        {
          "name": "stdout",
          "output_type": "stream",
          "text": [
            "One morning, when Gregor Samsa woke from troubled dreams, he found\n",
            "himself transformed in his bed into a horrible vermin.\n",
            "Were all employees, every\n",
            "one of them, louts, was there not one of them who was faithful and\n",
            "devoted who would go so mad with pangs of conscience that he\n",
            "couldn't get out of bed if he didn't spend at least a couple of\n",
            "hours in the morning on company business?\n"
          ]
        }
      ],
      "source": [
        "# print sentences example:\n",
        "print(sentences[0])\n",
        "print(sentences[np.random.randint(len(sentences))])"
      ]
    },
    {
      "cell_type": "code",
      "execution_count": 33,
      "metadata": {
        "id": "iFm_8Rp1zqlj"
      },
      "outputs": [],
      "source": [
        "def clean_text(sentences):\n",
        "    clean_func1 = lambda t: ' '.join(t.split(\"-\")) # .replace(\"-\", \" \")\n",
        "    clean_func2 = lambda t: ' '.join(re.split(r\"([0-9]+)([a-z]+)\", t, flags=re.I)) # \"9st\" => \"9 st\" \n",
        "    clean_func3 = lambda t: ' '.join(re.split(r\"([a-z]+)([0-9]+)\", t, flags=re.I))\n",
        "    clean_func4 = lambda t: t.lower().replace(\"&\", \"and\")\n",
        "    sentences = sentences.apply(clean_func1)\n",
        "    sentences = sentences.apply(clean_func2)\n",
        "    sentences = sentences.apply(clean_func3)\n",
        "    sentences = sentences.apply(clean_func4)\n",
        "    return sentences"
      ]
    },
    {
      "cell_type": "code",
      "execution_count": 34,
      "metadata": {
        "colab": {
          "base_uri": "https://localhost:8080/"
        },
        "id": "LXa1CqvJzrqO",
        "outputId": "a330c973-d801-4706-d8a9-ea6291647ddf"
      },
      "outputs": [
        {
          "name": "stdout",
          "output_type": "stream",
          "text": [
            "Building vocab....\n",
            "vocab length: 2592\n",
            "saving vocab...\n",
            "dataset set length: 797\n",
            "train dataset size 497\n",
            "val dataset size 100\n",
            "test dataset size 200\n"
          ]
        }
      ],
      "source": [
        "from nltk.tokenize import word_tokenize\n",
        "def get_vocab(sentences, tokens_to_remove=[\"$\", \"%\", \"'\", \"''\"], special_tokens=[\"<PAD>\", \"<SOS>\", \"<EOS>\"]):\n",
        "    print(\"Building vocab....\")\n",
        "    # tokenize sentences\n",
        "    tokenized_sentences = sentences.apply(word_tokenize)\n",
        "    tokenized_sentences = tokenized_sentences.values # nested list \n",
        "    tokens = [w for s in tokenized_sentences for w in s] # flatten list \n",
        "\n",
        "    # build vocab\n",
        "    unique_tokens = list(set(tokens))\n",
        "    unique_tokens = [token for token in unique_tokens if token not in tokens_to_remove ]\n",
        "\n",
        "    unique_tokens.sort()\n",
        "    vocab = {v: k for k, v in enumerate(special_tokens + unique_tokens)}\n",
        "    print(\"vocab length:\", len(vocab))\n",
        "    print(\"saving vocab...\")\n",
        "    with open(\"vocab.json\", \"w\") as f:\n",
        "        json.dump(vocab, f)\n",
        "    return tokens, vocab\n",
        "\n",
        "\n",
        "def tokenize(sentences, vocab):\n",
        "    # tokenize sentences with vocab\n",
        "    # add <SOS> and <EOS> at beginning and end of sentence\n",
        "    # splitter input data, target data (shifted sentence)\n",
        "    # pad sequences to have same length \n",
        "    tok_func = lambda t: [vocab[\"<SOS>\"]] + [vocab[w] for w in t if w in vocab.keys()]+[vocab[\"<EOS>\"]]\n",
        "    tokens_id = sentences.apply(word_tokenize)\n",
        "    tokens_id = tokens_id.apply(tok_func)\n",
        "    df = pd.DataFrame()\n",
        "    df['input_sentence'] = tokens_id.apply(lambda t: t[:-1])\n",
        "    df['target_sentence'] = tokens_id.apply(lambda t: t[1:])\n",
        "    len_sentences = tokens_id.apply(len)\n",
        "    max_len = np.max(len_sentences)\n",
        "    pad_func = lambda t: t + [0] * (max_len - len(t))\n",
        "    df[\"input_sentence\"] = df.input_sentence.apply(pad_func)\n",
        "    df[\"target_sentence\"] = df.target_sentence.apply(pad_func)\n",
        "    return df, max_len\n",
        "\n",
        "def tokenize_test(sentences, vocab):\n",
        "    tokenize_func = lambda t: word_tokenize(t)\n",
        "    tok_to_id_func = lambda t: [vocab[\"<SOS>\"]]+[vocab[w] for w in t if w in vocab.keys()]+[vocab[\"<EOS>\"]]\n",
        "    tokenized_sentences = sentences.apply(tokenize_func)\n",
        "    tokens_id = tokenized_sentences.apply(tok_to_id_func)\n",
        "    len_sentences = tokens_id.apply(len)\n",
        "    return tokens_id, len_sentences\n",
        "\n",
        "def split_train_test(sentences, sentences_1_and_2, val_size=100, test_size=200):\n",
        "    train_size = len(sentences) - (val_size + test_size)\n",
        "    train_sentences = sentences[:train_size]\n",
        "    val_sentences = sentences[train_size:train_size + val_size]\n",
        "    test_sentences = sentences_1_and_2[train_size + val_size:train_size + val_size + test_size]\n",
        "    return train_sentences, val_sentences, test_sentences\n",
        "\n",
        "def preprocess_data(df):\n",
        "    # get data \n",
        "    sentences, sentences_1, sentences_2 = df.sentence , df.sentence_1 , df.sentence_2\n",
        "    sentences, sentences_1, sentences_2 = clean_text(sentences), clean_text(sentences_1), clean_text(sentences_2) # text cleaning\n",
        "    tokens, vocab = get_vocab(sentences) # Build vocab \n",
        "    padded_sentences, max_len = tokenize(sentences, vocab) # tokenize, split input/target, pad sequences\n",
        "    print(\"dataset set length:\", len(padded_sentences))\n",
        "    sentences_1, len_sentences_1 = tokenize_test(sentences_1, vocab)\n",
        "    sentences_2, len_sentences_2 = tokenize_test(sentences_2, vocab)\n",
        "    sentences_1_and_2 = pd.concat([sentences_1, sentences_2], axis=1) # dataframe with 2 sentences \n",
        "    train_sentences, val_sentences, test_sentences = split_train_test(padded_sentences, sentences_1_and_2)\n",
        "    print(\"train dataset size\", len(train_sentences))\n",
        "    print(\"val dataset size\", len(val_sentences))\n",
        "    print(\"test dataset size\", len(test_sentences))\n",
        "    return train_sentences, val_sentences, test_sentences\n",
        "\n",
        "train_sentences, val_sentences, test_sentences = preprocess_data(df)"
      ]
    },
    {
      "cell_type": "code",
      "execution_count": 54,
      "metadata": {
        "id": "rJi2FHYhz4tD"
      },
      "outputs": [],
      "source": [
        "def get_dataloader(dataset,  batch_size):\n",
        "    # transform 2 columns of dataframe to numpy arrays\n",
        "    input_sentence = np.array([seq for seq in dataset.input_sentence.values])\n",
        "    target_sentence = np.array([seq for seq in dataset.target_sentence.values])\n",
        "    # tensorflow dataset\n",
        "    tfdataset = tf.data.Dataset.from_tensor_slices(\n",
        "            (input_sentence, target_sentence))\n",
        "    # tensorflow dataloader\n",
        "    dataloader = tfdataset.batch(batch_size, drop_remainder=True)\n",
        "    return dataloader\n",
        "\n",
        "def get_test_dataloader(data):\n",
        "    inputs, targets = data.sentence_1, data.sentence_2\n",
        "    inputs = inputs.to_list()\n",
        "    targets = targets.to_list()\n",
        "    inputs = [tf.constant(inp, dtype=tf.int32) for inp in inputs]\n",
        "    targets = [tf.constant(tar, dtype=tf.int32) for tar in targets]\n",
        "    return (inputs, targets)"
      ]
    },
    {
      "cell_type": "code",
      "execution_count": 55,
      "metadata": {
        "colab": {
          "base_uri": "https://localhost:8080/"
        },
        "id": "QqtWuq8L0ov3",
        "outputId": "d3fd6623-8660-448c-b354-0160d0a27639"
      },
      "outputs": [
        {
          "name": "stdout",
          "output_type": "stream",
          "text": [
            "(<tf.Tensor: shape=(16, 161), dtype=int64, numpy=\n",
            "array([[   1, 1553, 1448, ...,    0,    0,    0],\n",
            "       [   1, 1049, 1283, ...,    0,    0,    0],\n",
            "       [   1, 2258,  205, ...,    0,    0,    0],\n",
            "       ...,\n",
            "       [   1, 1117, 1035, ...,    0,    0,    0],\n",
            "       [   1, 1049, 1469, ...,    0,    0,    0],\n",
            "       [   1,   19, 1549, ...,    0,    0,    0]])>, <tf.Tensor: shape=(16, 161), dtype=int64, numpy=\n",
            "array([[1553, 1448,   13, ...,    0,    0,    0],\n",
            "       [1049, 1283, 1551, ...,    0,    0,    0],\n",
            "       [2258,  205, 2475, ...,    0,    0,    0],\n",
            "       ...,\n",
            "       [1117, 1035, 1049, ...,    0,    0,    0],\n",
            "       [1049, 1469, 1046, ...,    0,    0,    0],\n",
            "       [  19, 1549,   13, ...,    0,    0,    0]])>)\n",
            "(<tf.Tensor: shape=(16, 161), dtype=int64, numpy=\n",
            "array([[   1, 1004,  993, ...,    0,    0,    0],\n",
            "       [   1,   19, 1239, ...,    0,    0,    0],\n",
            "       [   1, 1218, 2475, ...,    0,    0,    0],\n",
            "       ...,\n",
            "       [   1, 1049, 1711, ...,    0,    0,    0],\n",
            "       [   1, 1004, 2475, ...,    0,    0,    0],\n",
            "       [   1,   96, 2054, ...,    0,    0,    0]])>, <tf.Tensor: shape=(16, 161), dtype=int64, numpy=\n",
            "array([[1004,  993, 1576, ...,    0,    0,    0],\n",
            "       [  19, 1239,  148, ...,    0,    0,    0],\n",
            "       [1218, 2475,  401, ...,    0,    0,    0],\n",
            "       ...,\n",
            "       [1049, 1711,  609, ...,    0,    0,    0],\n",
            "       [1004, 2475,   90, ...,    0,    0,    0],\n",
            "       [  96, 2054, 1049, ...,    0,    0,    0]])>)\n",
            "tf.Tensor(\n",
            "[   1 1553 1448   13 2508 1004 1896 2553  940 2357  675   13 1049  921\n",
            " 1083 2343 1166 1085  204 1206   20 1105 2439   14    0    0    0    0\n",
            "    0    0    0    0    0    0    0    0    0    0    0    0    0    0\n",
            "    0    0    0    0    0    0    0    0    0    0    0    0    0    0\n",
            "    0    0    0    0    0    0    0    0    0    0    0    0    0    0\n",
            "    0    0    0    0    0    0    0    0    0    0    0    0    0    0\n",
            "    0    0    0    0    0    0    0    0    0    0    0    0    0    0\n",
            "    0    0    0    0    0    0    0    0    0    0    0    0    0    0\n",
            "    0    0    0    0    0    0    0    0    0    0    0    0    0    0\n",
            "    0    0    0    0    0    0    0    0    0    0    0    0    0    0\n",
            "    0    0    0    0    0    0    0    0    0    0    0    0    0    0\n",
            "    0    0    0    0    0    0    0], shape=(161,), dtype=int64)\n",
            "tf.Tensor(\n",
            "[1553 1448   13 2508 1004 1896 2553  940 2357  675   13 1049  921 1083\n",
            " 2343 1166 1085  204 1206   20 1105 2439   14    2    0    0    0    0\n",
            "    0    0    0    0    0    0    0    0    0    0    0    0    0    0\n",
            "    0    0    0    0    0    0    0    0    0    0    0    0    0    0\n",
            "    0    0    0    0    0    0    0    0    0    0    0    0    0    0\n",
            "    0    0    0    0    0    0    0    0    0    0    0    0    0    0\n",
            "    0    0    0    0    0    0    0    0    0    0    0    0    0    0\n",
            "    0    0    0    0    0    0    0    0    0    0    0    0    0    0\n",
            "    0    0    0    0    0    0    0    0    0    0    0    0    0    0\n",
            "    0    0    0    0    0    0    0    0    0    0    0    0    0    0\n",
            "    0    0    0    0    0    0    0    0    0    0    0    0    0    0\n",
            "    0    0    0    0    0    0    0], shape=(161,), dtype=int64)\n"
          ]
        }
      ],
      "source": [
        "batch_size = 16\n",
        "train_loader = get_dataloader(train_sentences, batch_size=batch_size)\n",
        "print(next(iter(train_loader)))\n",
        "val_loader = get_dataloader(val_sentences, batch_size=batch_size)\n",
        "print(next(iter(val_loader)))\n",
        "test_loader = get_test_dataloader(test_sentences)\n",
        "inputs_test, targets_test = test_loader\n",
        "print(inputs[0])\n",
        "print(targets[0])"
      ]
    },
    {
      "cell_type": "code",
      "execution_count": 56,
      "metadata": {
        "colab": {
          "base_uri": "https://localhost:8080/",
          "height": 36
        },
        "id": "1DP4rWxY3rHp",
        "outputId": "4065f123-2fe1-46be-b3b7-fd5eebcf3b21"
      },
      "outputs": [
        {
          "data": {
            "application/vnd.google.colaboratory.intrinsic+json": {
              "type": "string"
            },
            "text/plain": [
              "'one morning , when gregor samsa woke from troubled dreams , he found himself transformed in his bed into a horrible vermin .'"
            ]
          },
          "execution_count": 56,
          "metadata": {},
          "output_type": "execute_result"
        }
      ],
      "source": [
        "def decode(seq_idx, vocab, delim=' ', ignored=[\"<SOS>\", \"<PAD>\"], stop_at_end=True):\n",
        "  # inv vocab\n",
        "  inv_vocab = {token_id: token for token, token_id in vocab.items()}\n",
        "  decoded_sentence = []\n",
        "  # decode sent\n",
        "  for token_id in seq_idx:\n",
        "    if stop_at_end:\n",
        "      if inv_vocab[token_id] == \"<EOS>\":\n",
        "        break\n",
        "    if inv_vocab[token_id] not in ignored:\n",
        "      decoded_sentence.append(inv_vocab[token_id])\n",
        "\n",
        "  # join tokens\n",
        "  return delim.join(decoded_sentence)\n",
        "decode(inputs[0].numpy(), vocab)"
      ]
    },
    {
      "cell_type": "code",
      "execution_count": 57,
      "metadata": {
        "id": "Aqof9JEN3xOB"
      },
      "outputs": [],
      "source": [
        "# Build Model\n",
        "def build_RNN(vocab_size, emb_size, output_size, rnn_units, dropout_rate, rnn_drop_rate=0.0):\n",
        "  model = tf.keras.Sequential()\n",
        "  e = tf.keras.layers.Embedding(input_dim=vocab_size, output_dim=emb_size, mask_zero=True)\n",
        "  model.add(e)\n",
        "  lstm = tf.keras.layers.GRU(units=rnn_units, recurrent_dropout=rnn_drop_rate, return_sequences=True) # to output each hidden representation of the sequence\n",
        "  model.add(lstm)\n",
        "  model.add(tf.keras.layers.Dropout(dropout_rate))\n",
        "  model.add(tf.keras.layers.Dense(output_size)) # we compute only logits. \n",
        "  return model"
      ]
    },
    {
      "cell_type": "code",
      "execution_count": 58,
      "metadata": {
        "id": "5JLvIXlM3zPd"
      },
      "outputs": [],
      "source": [
        "rnn_model = build_RNN(vocab_size=len(vocab), emb_size=32, output_size=len(vocab), rnn_units=64, dropout_rate=0.1)\n",
        "lr = 0.001\n",
        "optimizer = tf.keras.optimizers.Adam(lr,\n",
        "                                                  beta_1=0.9,\n",
        "                                                  beta_2=0.98,\n",
        "                                                  epsilon=1e-9)\n",
        "EPOCHS = 20 # 10 for debugging. generally, in Language modelling, we take between 30 and 50 epochs. "
      ]
    },
    {
      "cell_type": "code",
      "execution_count": 59,
      "metadata": {
        "colab": {
          "base_uri": "https://localhost:8080/"
        },
        "id": "Mtiwr5TB31lH",
        "outputId": "af236184-0af7-48bd-b016-5fe56fd2e926"
      },
      "outputs": [
        {
          "name": "stdout",
          "output_type": "stream",
          "text": [
            "(16, 161, 2592)\n"
          ]
        }
      ],
      "source": [
        "# test past forward on the lstm\n",
        "for (inputs, targets) in train_loader.take(1):\n",
        "    preds = lstm_model(inputs)\n",
        "print(preds.shape)"
      ]
    },
    {
      "cell_type": "code",
      "execution_count": 60,
      "metadata": {
        "id": "NW7JiyZm35Iz"
      },
      "outputs": [],
      "source": [
        "def train_RNN(model, optimizer, EPOCHS, train_dataset, val_dataset, checkpoint_path):\n",
        "    LSTM_ckpt_path = checkpoint_path + '/' + 'LSTM-{epoch}'\n",
        "\n",
        "    callbacks = [\n",
        "        tf.keras.callbacks.ModelCheckpoint(\n",
        "            filepath=LSTM_ckpt_path,\n",
        "            monitor='val_loss',\n",
        "            save_best_only=True,\n",
        "            save_weights_only=True,\n",
        "            verbose=1)\n",
        "    ]\n",
        "    model.compile(optimizer=optimizer,\n",
        "                  loss=tf.keras.losses.SparseCategoricalCrossentropy(from_logits=True))\n",
        "\n",
        "    print(model.summary())\n",
        "\n",
        "    # Save the weights using the `checkpoint_path` format\n",
        "    #model.save_weights(checkpoint_path.format(epoch=0))\n",
        "\n",
        "    # --- starting the training ... -----------------------------------------------\n",
        "    start_training = time.time()\n",
        "    rnn_history = model.fit(train_dataset,\n",
        "                            epochs=EPOCHS,\n",
        "                            validation_data=val_dataset,\n",
        "                            callbacks=callbacks,\n",
        "                            verbose=2)\n",
        "\n",
        "    train_loss_history_rnn = rnn_history.history['loss']\n",
        "    val_loss_history_rnn = rnn_history.history['val_loss']\n",
        "    train_ppl_history = np.exp(train_loss_history_rnn)\n",
        "    val_ppl_history = np.exp(val_loss_history_rnn)\n",
        "    train_history = [train_loss_history_rnn, val_loss_history_rnn, train_ppl_history, val_ppl_history]\n",
        "\n",
        "    print('Training time for {} epochs: {}'.format(EPOCHS, time.time() - start_training))\n",
        "\n",
        "    return train_history # [list_train_loss, list_val_loss, list_train_perplexity, list_val_perplexity]"
      ]
    },
    {
      "cell_type": "code",
      "execution_count": 61,
      "metadata": {
        "colab": {
          "base_uri": "https://localhost:8080/"
        },
        "id": "iKbV2oCK36QW",
        "outputId": "342a53c3-756d-4cba-c3d2-dc5de1e3b15a"
      },
      "outputs": [
        {
          "name": "stdout",
          "output_type": "stream",
          "text": [
            "Model: \"sequential_1\"\n",
            "_________________________________________________________________\n",
            " Layer (type)                Output Shape              Param #   \n",
            "=================================================================\n",
            " embedding_1 (Embedding)     (None, None, 32)          82944     \n",
            "                                                                 \n",
            " gru (GRU)                   (None, None, 64)          18816     \n",
            "                                                                 \n",
            " dropout_1 (Dropout)         (None, None, 64)          0         \n",
            "                                                                 \n",
            " dense_1 (Dense)             (None, None, 2592)        168480    \n",
            "                                                                 \n",
            "=================================================================\n",
            "Total params: 270,240\n",
            "Trainable params: 270,240\n",
            "Non-trainable params: 0\n",
            "_________________________________________________________________\n",
            "None\n",
            "Epoch 1/20\n",
            "\n",
            "Epoch 00001: val_loss improved from inf to 1.76781, saving model to /checkpoints/LSTM-1\n",
            "31/31 - 11s - loss: 1.5187 - val_loss: 1.7678 - 11s/epoch - 344ms/step\n",
            "Epoch 2/20\n",
            "\n",
            "Epoch 00002: val_loss improved from 1.76781 to 1.54999, saving model to /checkpoints/LSTM-2\n",
            "31/31 - 6s - loss: 1.2160 - val_loss: 1.5500 - 6s/epoch - 203ms/step\n",
            "Epoch 3/20\n",
            "\n",
            "Epoch 00003: val_loss did not improve from 1.54999\n",
            "31/31 - 6s - loss: 1.1573 - val_loss: 1.5566 - 6s/epoch - 201ms/step\n",
            "Epoch 4/20\n",
            "\n",
            "Epoch 00004: val_loss did not improve from 1.54999\n",
            "31/31 - 6s - loss: 1.1495 - val_loss: 1.5643 - 6s/epoch - 205ms/step\n",
            "Epoch 5/20\n",
            "\n",
            "Epoch 00005: val_loss did not improve from 1.54999\n",
            "31/31 - 8s - loss: 1.1442 - val_loss: 1.5709 - 8s/epoch - 250ms/step\n",
            "Epoch 6/20\n",
            "\n",
            "Epoch 00006: val_loss did not improve from 1.54999\n",
            "31/31 - 7s - loss: 1.1407 - val_loss: 1.5772 - 7s/epoch - 224ms/step\n",
            "Epoch 7/20\n",
            "\n",
            "Epoch 00007: val_loss did not improve from 1.54999\n",
            "31/31 - 6s - loss: 1.1386 - val_loss: 1.5827 - 6s/epoch - 202ms/step\n",
            "Epoch 8/20\n",
            "\n",
            "Epoch 00008: val_loss did not improve from 1.54999\n",
            "31/31 - 8s - loss: 1.1362 - val_loss: 1.5857 - 8s/epoch - 250ms/step\n",
            "Epoch 9/20\n",
            "\n",
            "Epoch 00009: val_loss did not improve from 1.54999\n",
            "31/31 - 8s - loss: 1.1318 - val_loss: 1.5771 - 8s/epoch - 245ms/step\n",
            "Epoch 10/20\n",
            "\n",
            "Epoch 00010: val_loss did not improve from 1.54999\n",
            "31/31 - 8s - loss: 1.1224 - val_loss: 1.5558 - 8s/epoch - 245ms/step\n",
            "Epoch 11/20\n",
            "\n",
            "Epoch 00011: val_loss improved from 1.54999 to 1.54508, saving model to /checkpoints/LSTM-11\n",
            "31/31 - 8s - loss: 1.1082 - val_loss: 1.5451 - 8s/epoch - 257ms/step\n",
            "Epoch 12/20\n",
            "\n",
            "Epoch 00012: val_loss improved from 1.54508 to 1.54436, saving model to /checkpoints/LSTM-12\n",
            "31/31 - 9s - loss: 1.0957 - val_loss: 1.5444 - 9s/epoch - 297ms/step\n",
            "Epoch 13/20\n",
            "\n",
            "Epoch 00013: val_loss did not improve from 1.54436\n",
            "31/31 - 11s - loss: 1.0840 - val_loss: 1.5449 - 11s/epoch - 352ms/step\n",
            "Epoch 14/20\n",
            "\n",
            "Epoch 00014: val_loss did not improve from 1.54436\n",
            "31/31 - 6s - loss: 1.0726 - val_loss: 1.5448 - 6s/epoch - 203ms/step\n",
            "Epoch 15/20\n",
            "\n",
            "Epoch 00015: val_loss improved from 1.54436 to 1.54390, saving model to /checkpoints/LSTM-15\n",
            "31/31 - 6s - loss: 1.0619 - val_loss: 1.5439 - 6s/epoch - 203ms/step\n",
            "Epoch 16/20\n",
            "\n",
            "Epoch 00016: val_loss improved from 1.54390 to 1.54247, saving model to /checkpoints/LSTM-16\n",
            "31/31 - 7s - loss: 1.0513 - val_loss: 1.5425 - 7s/epoch - 224ms/step\n",
            "Epoch 17/20\n",
            "\n",
            "Epoch 00017: val_loss improved from 1.54247 to 1.54225, saving model to /checkpoints/LSTM-17\n",
            "31/31 - 6s - loss: 1.0415 - val_loss: 1.5422 - 6s/epoch - 204ms/step\n",
            "Epoch 18/20\n",
            "\n",
            "Epoch 00018: val_loss improved from 1.54225 to 1.54210, saving model to /checkpoints/LSTM-18\n",
            "31/31 - 6s - loss: 1.0320 - val_loss: 1.5421 - 6s/epoch - 203ms/step\n",
            "Epoch 19/20\n",
            "\n",
            "Epoch 00019: val_loss did not improve from 1.54210\n",
            "31/31 - 6s - loss: 1.0229 - val_loss: 1.5422 - 6s/epoch - 204ms/step\n",
            "Epoch 20/20\n",
            "\n",
            "Epoch 00020: val_loss did not improve from 1.54210\n",
            "31/31 - 6s - loss: 1.0140 - val_loss: 1.5430 - 6s/epoch - 203ms/step\n",
            "Training time for 20 epochs: 182.24460315704346\n"
          ]
        }
      ],
      "source": [
        "import os\n",
        "import time\n",
        "checkpoint_path = \"/checkpoints\"\n",
        "if not os.path.isdir(checkpoint_path):\n",
        "  os.makedirs(checkpoint_path)\n",
        "train_history = train_RNN(model=rnn_model, optimizer=optimizer, EPOCHS=EPOCHS, train_dataset=train_loader, val_dataset=val_loader, checkpoint_path=checkpoint_path)"
      ]
    },
    {
      "cell_type": "code",
      "execution_count": 62,
      "metadata": {
        "id": "-w8H7BNX7Rcu"
      },
      "outputs": [],
      "source": [
        "def plot_train_history(train_history):\n",
        "    fig, axs = plt.subplots(1,2, figsize=(30,15))\n",
        "    train_loss_history = train_history[0]\n",
        "    val_loss_history = train_history[1]\n",
        "    train_ppls = train_history[2]\n",
        "    val_ppls = train_history[-1]\n",
        "    axs[0].plot(train_loss_history)\n",
        "    axs[0].plot(val_loss_history)\n",
        "    axs[1].plot(train_ppls)\n",
        "    axs[1].plot(val_ppls)\n",
        "    axs[0].set_xlabel(\"Epochs\")\n",
        "    axs[1].set_xlabel(\"Epochs\")\n",
        "    axs[0].set_ylabel(\"Loss\")\n",
        "    axs[1].set_ylabel(\"Perplexity\")\n",
        "    axs[0].legend([\"train_loss\", \"val_loss\"])\n",
        "    axs[1].legend([\"train_ppl\", \"val_ppl\"])\n",
        "    plt.show()"
      ]
    },
    {
      "cell_type": "code",
      "execution_count": 63,
      "metadata": {
        "colab": {
          "base_uri": "https://localhost:8080/",
          "height": 877
        },
        "id": "_0yq2jwH7Vh2",
        "outputId": "6547967d-a237-4166-db91-eba02ccaf9e2"
      },
      "outputs": [
        {
          "data": {
            "image/png": "[encoded data removed]",
            "text/plain": [
              "<Figure size 2160x1080 with 2 Axes>"
            ]
          },
          "metadata": {
            "needs_background": "light"
          },
          "output_type": "display_data"
        }
      ],
      "source": [
        "plot_train_history(train_history)"
      ]
    },
    {
      "cell_type": "code",
      "execution_count": 64,
      "metadata": {
        "colab": {
          "base_uri": "https://localhost:8080/"
        },
        "id": "1iR7kj8q7W5y",
        "outputId": "a791a6fd-3240-4ea7-f97c-091754e08cd2"
      },
      "outputs": [
        {
          "data": {
            "text/plain": [
              "<tf.Tensor: shape=(1, 1), dtype=int32, numpy=array([[99]], dtype=int32)>"
            ]
          },
          "execution_count": 64,
          "metadata": {},
          "output_type": "execute_result"
        }
      ],
      "source": [
        "def top_k_top_p_filtering(logits, top_k=0, top_p=0.0, filter_value=-float('Inf')):\n",
        "    \"\"\" Filter a distribution of logits using top-k and/or nucleus (top-p) filtering\n",
        "        Args:\n",
        "            logits: logits distribution shape (vocabulary size)\n",
        "            top_k >0: keep only top k tokens with highest probability (top-k filtering).\n",
        "            top_p >0.0: keep the top tokens with cumulative probability >= top_p (nucleus filtering).\n",
        "                Nucleus filtering is described in Holtzman et al. (http://arxiv.org/abs/1904.09751)\n",
        "    \"\"\"\n",
        "    \n",
        "\n",
        "    if top_k > 0:\n",
        "        # Remove all tokens with a probability less than the last token of the top-k\n",
        "        indices_to_remove = logits < tf.topk(logits, top_k)[0][..., -1, None]\n",
        "        logits[indices_to_remove] = filter_value\n",
        "\n",
        "    if top_p > 0.0:\n",
        "        sorted_logits = tf.sort(logits,direction='DESCENDING')\n",
        "        sorted_indices = tf.argsort(logits,direction='DESCENDING')\n",
        "        cumulative_probs = tf.math.cumsum(tf.nn.softmax(sorted_logits, axis=-1), axis=-1)\n",
        "\n",
        "        # Remove tokens with cumulative probability above the threshold\n",
        "        sorted_indices_to_remove = cumulative_probs > top_p\n",
        "\n",
        "        # to numpy \n",
        "        sorted_indices_to_remove = sorted_indices_to_remove.numpy()\n",
        "        # Shift the indices to the right to keep also the first token above the threshold\n",
        "        sorted_indices_to_remove[..., 1:] = sorted_indices_to_remove[..., :-1].copy()\n",
        "        sorted_indices_to_remove[..., 0] = 0\n",
        "\n",
        "        indices_to_remove = sorted_indices[sorted_indices_to_remove]\n",
        "    \n",
        "        idx_to_remove = [int(i) for i in indices_to_remove.numpy()]\n",
        "        logits_np = logits.numpy()\n",
        "        logits_np[idx_to_remove] = filter_value\n",
        "    return tf.convert_to_tensor(logits_np)\n",
        "\n",
        "inputs_sample = inputs_test[1]\n",
        "\n",
        "# Here is how to use this function for top-p sampling\n",
        "temperature = 1.0\n",
        "top_k = 0\n",
        "top_p = 0.9\n",
        "\n",
        "# Get logits with a forward pass in our model (input is pre-defined)\n",
        "logits = rnn_model(inputs=inputs, training=False)\n",
        "# Keep only the last token predictions of the first batch item (batch size 1), apply a temperature coefficient and filter\n",
        "logits = logits[0, -1, :] / temperature\n",
        "filtered_logits = top_k_top_p_filtering(logits, top_k=top_k, top_p=top_p)\n",
        "\n",
        "# Sample from the filtered distribution\n",
        "probabilities = tf.nn.softmax(filtered_logits, axis=-1)\n",
        "probabilities = tf.reshape(probabilities,(1,-1))\n",
        "last_pred = tf.random.categorical(logits=probabilities, num_samples=1, dtype=tf.int32)\n",
        "last_pred = tf.reshape(last_pred, shape=(last_pred.shape[-1], last_pred.shape[0]))\n",
        "last_pred"
      ]
    },
    {
      "cell_type": "code",
      "execution_count": 65,
      "metadata": {
        "id": "pqYyQj2t7z1Z"
      },
      "outputs": [],
      "source": [
        "def generate_text(model, inputs, seq_len=10,temperature = 1.0 , top_k = 0 , top_p = 0.9):\n",
        "  # Loop over number of decoding timesteps: (equal to seq_len)\n",
        "  for t in range(seq_len):\n",
        "      # pass forward on the model \n",
        "      preds_test = model(inputs=inputs, training=False)  # logits (B,S,V)\n",
        "      # get the last prediction (logits)\n",
        "      preds_test = preds_test[0, -1, :] / temperature\n",
        "      filtered_logits = top_k_top_p_filtering(preds_test, top_k=top_k, top_p=top_p)\n",
        "      # Sample from the filtered distribution\n",
        "      probabilities = tf.nn.softmax(filtered_logits, axis=-1)\n",
        "      probabilities = tf.reshape(probabilities,(1,-1))\n",
        "      last_pred = tf.random.categorical(logits=probabilities, num_samples=1, dtype=tf.int32)\n",
        "      last_pred = tf.reshape(last_pred, shape=(last_pred.shape[-1], last_pred.shape[0]))\n",
        "      inputs = tf.concat([inputs, last_pred], axis=1)\n",
        "  # return the final inputs (complete sequence of word ids)\n",
        "  return inputs, inputs[:,-seq_len:]"
      ]
    },
    {
      "cell_type": "code",
      "execution_count": 66,
      "metadata": {
        "colab": {
          "base_uri": "https://localhost:8080/"
        },
        "id": "4Ol3fjUq71kI",
        "outputId": "2e6befc1-d591-4aec-daf0-e57d46b4e17c"
      },
      "outputs": [
        {
          "name": "stdout",
          "output_type": "stream",
          "text": [
            "'input sentence : '\n",
            "('one time , though , the charwoman left the door to the living room slightly '\n",
            " 'open , and it remained open')\n",
            "'generated text'\n",
            "('one time , though , the charwoman left the door to the living room slightly '\n",
            " 'open , and it remained open <EOS> premises wealth working aggrieved stepped '\n",
            " 'both appeared believing ancient months')\n"
          ]
        }
      ],
      "source": [
        "import pprint\n",
        "inputs_test, targets_test = test_loader # inputs = sentence1, targets=sentence2\n",
        "inputs_sample = inputs_test[1]\n",
        "pprint.pprint(\"input sentence : \")\n",
        "pprint.pprint( decode(inputs_sample.numpy(), vocab))\n",
        "\n",
        "inputs_sample = inputs_sample[tf.newaxis,:] # shape (1,16)\n",
        "\n",
        "encoded_text, encoded_preds = generate_text(rnn_model, inputs_sample,)\n",
        "pprint.pprint(\"generated text\")\n",
        "\n",
        "pprint.pprint( decode(tf.squeeze(encoded_text).numpy(), vocab, stop_at_end=False))\n",
        "#print(\"generated sentence\", decode(tf.squeeze(encoded_preds).numpy(), vocab, stop_at_end=False))"
      ]
    },
    {
      "cell_type": "code",
      "execution_count": null,
      "metadata": {
        "id": "Mc6Sr9ct73dN"
      },
      "outputs": [],
      "source": []
    }
  ],
  "metadata": {
    "colab": {
      "collapsed_sections": [],
      "name": "EXO2_TP.ipynb",
      "provenance": []
    },
    "kernelspec": {
      "display_name": "Python 3",
      "name": "python3"
    },
    "language_info": {
      "name": "python"
    }
  },
  "nbformat": 4,
  "nbformat_minor": 0
}
